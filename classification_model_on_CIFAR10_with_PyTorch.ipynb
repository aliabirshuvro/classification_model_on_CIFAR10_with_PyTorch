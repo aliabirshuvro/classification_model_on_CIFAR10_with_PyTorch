{
  "nbformat": 4,
  "nbformat_minor": 0,
  "metadata": {
    "colab": {
      "name": "classification model on CIFAR10 with PyTorch.ipynb",
      "provenance": [],
      "collapsed_sections": [],
      "authorship_tag": "ABX9TyM5hztLiiqP62JCg0w5Go+R",
      "include_colab_link": true
    },
    "kernelspec": {
      "name": "python3",
      "display_name": "Python 3"
    },
    "language_info": {
      "name": "python"
    }
  },
  "cells": [
    {
      "cell_type": "markdown",
      "metadata": {
        "id": "view-in-github",
        "colab_type": "text"
      },
      "source": [
        "<a href=\"https://colab.research.google.com/github/aliabirshuvro/classification_model_on_CIFAR10_with_PyTorch/blob/main/classification_model_on_CIFAR10_with_PyTorch.ipynb\" target=\"_parent\"><img src=\"https://colab.research.google.com/assets/colab-badge.svg\" alt=\"Open In Colab\"/></a>"
      ]
    },
    {
      "cell_type": "code",
      "metadata": {
        "id": "CJwZrUTIZNWo"
      },
      "source": [
        "import torch\n",
        "from torch import nn\n",
        "from torch import optim\n",
        "from torchvision import datasets, transforms\n",
        "from torch.utils.data import random_split, DataLoader"
      ],
      "execution_count": 16,
      "outputs": []
    },
    {
      "cell_type": "code",
      "metadata": {
        "id": "hBufdmZGZpTE"
      },
      "source": [
        "#Define model\n",
        "model = nn.Sequential(\n",
        "    nn.Linear(32 * 32 * 3, 64), \n",
        "    nn.ReLU(),\n",
        "    nn.Linear(64, 64),\n",
        "    nn.ReLU(),\n",
        "    nn.Dropout(0.1),\n",
        "    nn.Linear(64, 10)\n",
        ")\n"
      ],
      "execution_count": 17,
      "outputs": []
    },
    {
      "cell_type": "code",
      "metadata": {
        "id": "mxB3RjKnrw5L"
      },
      "source": [
        "#Define a flexible model using ResNet\n",
        "class ResNet(nn.Module):\n",
        "    def __init__(self):\n",
        "        super().__init__()\n",
        "        self.l1= nn.Linear(32 * 32 * 3, 64)\n",
        "        self.l2 = nn.Linear(64, 64)\n",
        "        self.l3 = nn.Linear(64, 10)\n",
        "        self.do = nn.Dropout(0.1)   #in order to avoid overfitting\n",
        "\n",
        "    def forward(self, x):\n",
        "        h1 = nn.functional.relu(self.l1(x))\n",
        "        h2 = nn.functional.relu(self.l2(h1)) \n",
        "        do = self.do(h2 + h1)\n",
        "        logits = self.l3(do)\n",
        "        return logits\n",
        "\n",
        "model = ResNet()\n"
      ],
      "execution_count": 18,
      "outputs": []
    },
    {
      "cell_type": "code",
      "metadata": {
        "id": "OTZnJIgyZs6y"
      },
      "source": [
        "#Define optimizer\n",
        "optimizer = optim.SGD(model.parameters(), lr=1e-2)"
      ],
      "execution_count": 19,
      "outputs": []
    },
    {
      "cell_type": "code",
      "metadata": {
        "id": "1bop93cJdl7S"
      },
      "source": [
        "#Define loss\n",
        "loss = nn.CrossEntropyLoss()"
      ],
      "execution_count": 20,
      "outputs": []
    },
    {
      "cell_type": "code",
      "metadata": {
        "colab": {
          "base_uri": "https://localhost:8080/"
        },
        "id": "mLOqdFoghved",
        "outputId": "69f0df05-077e-4e31-b9b5-96da4f8eac72"
      },
      "source": [
        "#Train, Val split\n",
        "train_data = datasets.CIFAR10('data', train = True, download = True, transform = transforms.ToTensor())\n",
        "train, val = random_split(train_data, [45000,5000])\n",
        "train_loader = DataLoader(train, batch_size=32)\n",
        "val_loader = DataLoader(val, batch_size=32)\n"
      ],
      "execution_count": 21,
      "outputs": [
        {
          "output_type": "stream",
          "text": [
            "Files already downloaded and verified\n"
          ],
          "name": "stdout"
        }
      ]
    },
    {
      "cell_type": "code",
      "metadata": {
        "colab": {
          "base_uri": "https://localhost:8080/"
        },
        "id": "me7JWBe0eRwJ",
        "outputId": "9026a250-1bfd-4dfe-cc07-0188864ce74a"
      },
      "source": [
        "#Training and validation loops\n",
        "nb_epochs = 5\n",
        "for epoch in range(nb_epochs):\n",
        "    losses = list()\n",
        "    accuracies = list()\n",
        "    model.train()\n",
        "\n",
        "    for batch in train_loader:\n",
        "        x,y = batch   #x is image, y is class label\n",
        "\n",
        "        # x: b x 1 x 28 x 28\n",
        "        b = x.size(0)   #reshaping x from 28 x 28 into a vector of size 28^2\n",
        "        x = x.view(b, -1)\n",
        "\n",
        "        #step-1 forward\n",
        "        l = model(x)  #l: logits\n",
        "        #import pdb; pdb.set_trace()      #This will start a debugger and we can see the values at this point \n",
        "\n",
        "        #step-2 compute the objective function\n",
        "        J = loss(l, y)\n",
        "\n",
        "        #step-3 cleaning the gradient\n",
        "        model.zero_grad()\n",
        "\n",
        "        #step-4 compute the partial derivative of J wrt parameters\n",
        "        J.backward()\n",
        "\n",
        "        #step-5 step in the opposite direction of the gradient\n",
        "        optimizer.step()\n",
        "\n",
        "\n",
        "        losses.append(J.item())\n",
        "        accuracies.append(y.eq(l.detach().argmax(dim=1)).float().mean())\n",
        "\n",
        "    print(f'Epoch {epoch +1}', end=',') \n",
        "    print(f'training loss: {torch.tensor(losses).mean():.2f}', end=',')\n",
        "    print(f'training accuracy: {torch.tensor(accuracies).mean():.2f}')\n",
        "\n",
        "\n",
        "    losses = list()\n",
        "    accuracies = list()\n",
        "    model.eval()\n",
        "\n",
        "    for batch in train_loader:\n",
        "        x,y = batch   #x is image, y is class label\n",
        "\n",
        "        # x: b x 1 x 28 x 28\n",
        "        b = x.size(0)\n",
        "        x = x.view(b, -1)\n",
        "\n",
        "        #step-1 forward\n",
        "        with torch.no_grad():   #dont keep trace of gradients or graphs\n",
        "            l = model(x)  #l: logits\n",
        "\n",
        "        #step-2 compute the objective function\n",
        "        J = loss(l, y)\n",
        "\n",
        "        losses.append(J.item())\n",
        "        accuracies.append(y.eq(l.detach().argmax(dim=1)).float().mean())\n",
        "\n",
        "    print(f'Epoch {epoch +1}', end=',') \n",
        "    print(f'validation loss: {torch.tensor(losses).mean():.2f}', end=',')\n",
        "    print(f'validation accuracy: {torch.tensor(accuracies).mean():.2f}')"
      ],
      "execution_count": 22,
      "outputs": [
        {
          "output_type": "stream",
          "text": [
            "Epoch 1,training loss: 1.97,training accuracy: 0.30\n",
            "Epoch 1,validation loss: 1.81,validation accuracy: 0.36\n",
            "Epoch 2,training loss: 1.79,training accuracy: 0.37\n",
            "Epoch 2,validation loss: 1.71,validation accuracy: 0.39\n",
            "Epoch 3,training loss: 1.72,training accuracy: 0.39\n",
            "Epoch 3,validation loss: 1.66,validation accuracy: 0.41\n",
            "Epoch 4,training loss: 1.67,training accuracy: 0.41\n",
            "Epoch 4,validation loss: 1.63,validation accuracy: 0.42\n",
            "Epoch 5,training loss: 1.63,training accuracy: 0.42\n",
            "Epoch 5,validation loss: 1.61,validation accuracy: 0.43\n"
          ],
          "name": "stdout"
        }
      ]
    },
    {
      "cell_type": "code",
      "metadata": {
        "id": "5caccebjoGLz"
      },
      "source": [
        ""
      ],
      "execution_count": null,
      "outputs": []
    }
  ]
}